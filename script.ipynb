{
 "cells": [
  {
   "cell_type": "code",
   "execution_count": 1,
   "id": "a473a916-0045-4288-bcdd-ef2b44cb6d5b",
   "metadata": {},
   "outputs": [
    {
     "ename": "FileNotFoundError",
     "evalue": "[Errno 2] No such file or directory: 'subscriptions2.html'",
     "output_type": "error",
     "traceback": [
      "\u001b[0;31m---------------------------------------------------------------------------\u001b[0m",
      "\u001b[0;31mFileNotFoundError\u001b[0m                         Traceback (most recent call last)",
      "Cell \u001b[0;32mIn[1], line 10\u001b[0m\n\u001b[1;32m      7\u001b[0m         rawdata \u001b[38;5;241m=\u001b[39m f\u001b[38;5;241m.\u001b[39mread()\n\u001b[1;32m      8\u001b[0m     \u001b[38;5;28;01mreturn\u001b[39;00m detect(rawdata)[\u001b[38;5;124m'\u001b[39m\u001b[38;5;124mencoding\u001b[39m\u001b[38;5;124m'\u001b[39m]\n\u001b[0;32m---> 10\u001b[0m from_codec \u001b[38;5;241m=\u001b[39m \u001b[43mget_encoding_type\u001b[49m\u001b[43m(\u001b[49m\u001b[38;5;124;43m\"\u001b[39;49m\u001b[38;5;124;43msubscriptions2.html\u001b[39;49m\u001b[38;5;124;43m\"\u001b[39;49m\u001b[43m)\u001b[49m\n",
      "Cell \u001b[0;32mIn[1], line 6\u001b[0m, in \u001b[0;36mget_encoding_type\u001b[0;34m(file)\u001b[0m\n\u001b[1;32m      5\u001b[0m \u001b[38;5;28;01mdef\u001b[39;00m \u001b[38;5;21mget_encoding_type\u001b[39m(file):\n\u001b[0;32m----> 6\u001b[0m     \u001b[38;5;28;01mwith\u001b[39;00m \u001b[38;5;28;43mopen\u001b[39;49m\u001b[43m(\u001b[49m\u001b[43mfile\u001b[49m\u001b[43m,\u001b[49m\u001b[43m \u001b[49m\u001b[38;5;124;43m'\u001b[39;49m\u001b[38;5;124;43mrb\u001b[39;49m\u001b[38;5;124;43m'\u001b[39;49m\u001b[43m)\u001b[49m \u001b[38;5;28;01mas\u001b[39;00m f:\n\u001b[1;32m      7\u001b[0m         rawdata \u001b[38;5;241m=\u001b[39m f\u001b[38;5;241m.\u001b[39mread()\n\u001b[1;32m      8\u001b[0m     \u001b[38;5;28;01mreturn\u001b[39;00m detect(rawdata)[\u001b[38;5;124m'\u001b[39m\u001b[38;5;124mencoding\u001b[39m\u001b[38;5;124m'\u001b[39m]\n",
      "File \u001b[0;32m/usr/lib/python3.12/site-packages/IPython/core/interactiveshell.py:324\u001b[0m, in \u001b[0;36m_modified_open\u001b[0;34m(file, *args, **kwargs)\u001b[0m\n\u001b[1;32m    317\u001b[0m \u001b[38;5;28;01mif\u001b[39;00m file \u001b[38;5;129;01min\u001b[39;00m {\u001b[38;5;241m0\u001b[39m, \u001b[38;5;241m1\u001b[39m, \u001b[38;5;241m2\u001b[39m}:\n\u001b[1;32m    318\u001b[0m     \u001b[38;5;28;01mraise\u001b[39;00m \u001b[38;5;167;01mValueError\u001b[39;00m(\n\u001b[1;32m    319\u001b[0m         \u001b[38;5;124mf\u001b[39m\u001b[38;5;124m\"\u001b[39m\u001b[38;5;124mIPython won\u001b[39m\u001b[38;5;124m'\u001b[39m\u001b[38;5;124mt let you open fd=\u001b[39m\u001b[38;5;132;01m{\u001b[39;00mfile\u001b[38;5;132;01m}\u001b[39;00m\u001b[38;5;124m by default \u001b[39m\u001b[38;5;124m\"\u001b[39m\n\u001b[1;32m    320\u001b[0m         \u001b[38;5;124m\"\u001b[39m\u001b[38;5;124mas it is likely to crash IPython. If you know what you are doing, \u001b[39m\u001b[38;5;124m\"\u001b[39m\n\u001b[1;32m    321\u001b[0m         \u001b[38;5;124m\"\u001b[39m\u001b[38;5;124myou can use builtins\u001b[39m\u001b[38;5;124m'\u001b[39m\u001b[38;5;124m open.\u001b[39m\u001b[38;5;124m\"\u001b[39m\n\u001b[1;32m    322\u001b[0m     )\n\u001b[0;32m--> 324\u001b[0m \u001b[38;5;28;01mreturn\u001b[39;00m \u001b[43mio_open\u001b[49m\u001b[43m(\u001b[49m\u001b[43mfile\u001b[49m\u001b[43m,\u001b[49m\u001b[43m \u001b[49m\u001b[38;5;241;43m*\u001b[39;49m\u001b[43margs\u001b[49m\u001b[43m,\u001b[49m\u001b[43m \u001b[49m\u001b[38;5;241;43m*\u001b[39;49m\u001b[38;5;241;43m*\u001b[39;49m\u001b[43mkwargs\u001b[49m\u001b[43m)\u001b[49m\n",
      "\u001b[0;31mFileNotFoundError\u001b[0m: [Errno 2] No such file or directory: 'subscriptions2.html'"
     ]
    }
   ],
   "source": [
    "import os    \n",
    "from chardet import detect\n",
    "\n",
    "# get file encoding type\n",
    "def get_encoding_type(file):\n",
    "    with open(file, 'rb') as f:\n",
    "        rawdata = f.read()\n",
    "    return detect(rawdata)['encoding']\n",
    "\n",
    "from_codec = get_encoding_type(\"subscriptions2.html\")"
   ]
  },
  {
   "cell_type": "code",
   "execution_count": null,
   "id": "eeb18201-217f-4aef-8117-a01fa418c76d",
   "metadata": {},
   "outputs": [],
   "source": [
    "from_codec"
   ]
  },
  {
   "cell_type": "code",
   "execution_count": null,
   "id": "c226f465-0bad-4d0e-8fb2-26561901cb5e",
   "metadata": {},
   "outputs": [],
   "source": [
    "File1 = open(\"subscriptions2.html\",encoding=from_codec)"
   ]
  },
  {
   "cell_type": "code",
   "execution_count": null,
   "id": "95cc5929-c292-4195-a3f0-d7a7b94ecb15",
   "metadata": {},
   "outputs": [],
   "source": [
    "a = File1.read()"
   ]
  },
  {
   "cell_type": "code",
   "execution_count": null,
   "id": "c75d8e6f-73f5-43f7-a741-d75ee3efc0f7",
   "metadata": {},
   "outputs": [],
   "source": [
    "print(a)"
   ]
  },
  {
   "cell_type": "code",
   "execution_count": null,
   "id": "8b242dc6-9253-497d-a62c-dfbe8417b07d",
   "metadata": {},
   "outputs": [],
   "source": [
    "from bs4 import BeautifulSoup\n",
    "soup = BeautifulSoup (a, 'html.parser')"
   ]
  },
  {
   "cell_type": "code",
   "execution_count": null,
   "id": "3c1d575e-9b9d-4296-af7d-46edcfa007d1",
   "metadata": {},
   "outputs": [],
   "source": [
    "soup.find_all(\"a\")"
   ]
  },
  {
   "cell_type": "code",
   "execution_count": null,
   "id": "ddc0670f-5d1d-4fb8-9e25-c6a9a524348f",
   "metadata": {},
   "outputs": [],
   "source": [
    "soup.prettify()"
   ]
  },
  {
   "cell_type": "code",
   "execution_count": null,
   "id": "a33f0c69-189a-4a53-9d3d-9fd8ba104d1b",
   "metadata": {},
   "outputs": [],
   "source": [
    "import re"
   ]
  },
  {
   "cell_type": "code",
   "execution_count": null,
   "id": "fa756f56-0bc0-489e-97ba-4fa113fd9d39",
   "metadata": {},
   "outputs": [],
   "source": [
    "def getName(s:str) -> str:\n",
    "    match = re.search(r'<a href=\"(.*?)\">(.*?)</a>',s)\n",
    "    if match:\n",
    "        return [f\"{match.group(2)}\",f\"{match.group(1)}\"]\n",
    "    return []"
   ]
  },
  {
   "cell_type": "code",
   "execution_count": null,
   "id": "301a7a61-4164-44e5-9758-2648aabf5dd0",
   "metadata": {},
   "outputs": [],
   "source": [
    "SoupResult = soup.find_all(\"a\")"
   ]
  },
  {
   "cell_type": "code",
   "execution_count": null,
   "id": "5fdf124b-d6d2-4dd7-80b1-7d27039cfa3a",
   "metadata": {},
   "outputs": [],
   "source": [
    "SoupResult[10]"
   ]
  },
  {
   "cell_type": "code",
   "execution_count": null,
   "id": "a16100b2-4aed-4543-be0d-98556e815164",
   "metadata": {},
   "outputs": [],
   "source": [
    "getName(str(SoupResult[10]))"
   ]
  },
  {
   "cell_type": "code",
   "execution_count": null,
   "id": "d03d93d3-8325-4c86-b007-e1fdb2c33263",
   "metadata": {},
   "outputs": [],
   "source": [
    "import csv\n",
    "def GetCSV(rowList):\n",
    "    with open('profile.csv', 'w', newline='') as file:\n",
    "        writer = csv.writer(file)\n",
    "        writer.writerows(rowList)\n"
   ]
  },
  {
   "cell_type": "code",
   "execution_count": null,
   "id": "4c6d6508-da72-4010-bc4c-f419d389f720",
   "metadata": {},
   "outputs": [],
   "source": [
    "getName(str(SoupResult[0]))"
   ]
  },
  {
   "cell_type": "code",
   "execution_count": null,
   "id": "d1d05fff-0299-42ed-bc61-3bfd0571b9f2",
   "metadata": {},
   "outputs": [],
   "source": [
    "ResultForCSV = [getName(str(i).replace(\"&amp;\",'&')) for i in SoupResult if getName(str(i))]"
   ]
  },
  {
   "cell_type": "code",
   "execution_count": null,
   "id": "1dcf991f-d462-4e0a-91c2-87839220992c",
   "metadata": {},
   "outputs": [],
   "source": [
    "GetCSV(ResultForCSV)"
   ]
  },
  {
   "cell_type": "code",
   "execution_count": null,
   "id": "573eb5d9-375a-4b78-a7ff-9161001a85fa",
   "metadata": {},
   "outputs": [],
   "source": [
    "ResultForCSV"
   ]
  },
  {
   "cell_type": "code",
   "execution_count": null,
   "id": "cf888f2c-e002-4b6c-b2fe-ab0c7505bf9c",
   "metadata": {},
   "outputs": [],
   "source": []
  },
  {
   "cell_type": "code",
   "execution_count": null,
   "id": "54e3834a-490f-4ebf-a6d1-5bece1a67b9c",
   "metadata": {},
   "outputs": [],
   "source": []
  },
  {
   "cell_type": "code",
   "execution_count": null,
   "id": "8d9c18cc-0127-434f-8e0e-2c24fe1416b6",
   "metadata": {},
   "outputs": [],
   "source": []
  }
 ],
 "metadata": {
  "kernelspec": {
   "display_name": "Python 3 (ipykernel)",
   "language": "python",
   "name": "python3"
  },
  "language_info": {
   "codemirror_mode": {
    "name": "ipython",
    "version": 3
   },
   "file_extension": ".py",
   "mimetype": "text/x-python",
   "name": "python",
   "nbconvert_exporter": "python",
   "pygments_lexer": "ipython3",
   "version": "3.12.7"
  }
 },
 "nbformat": 4,
 "nbformat_minor": 5
}
